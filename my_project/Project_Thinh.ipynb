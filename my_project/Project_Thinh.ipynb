{
 "cells": [
  {
   "cell_type": "code",
   "execution_count": 1,
   "id": "24014b9c-9e78-4cd2-ba38-43a9d86d4c26",
   "metadata": {},
   "outputs": [],
   "source": [
    "import pandas\n",
    "from io import TextIOWrapper"
   ]
  },
  {
   "cell_type": "code",
   "execution_count": 2,
   "id": "d96a8e23-4313-483f-b15c-b41a52942268",
   "metadata": {},
   "outputs": [],
   "source": [
    "def open_file(file_path: str):\n",
    "    file = open(file_path,\"r+\")\n",
    "    return file\n",
    "def write_to_file(file_operator: TextIOWrapper, text: str, line: int):\n",
    "    lines = file_operator.readlines()\n",
    "    lines.insert(text,line)\n",
    "    file_operator.seek(0)\n",
    "    file_operator.writelines(lines)\n",
    "def print_file(file_operator: TextIOWrapper):\n",
    "    print(file_operator.read())"
   ]
  },
  {
   "cell_type": "code",
   "execution_count": 3,
   "id": "2a5ee066-f22e-4622-8922-b9aaa4823f7b",
   "metadata": {},
   "outputs": [
    {
     "data": {
      "text/plain": [
       "<_io.TextIOWrapper name='test.txt' mode='r+' encoding='UTF-8'>"
      ]
     },
     "execution_count": 3,
     "metadata": {},
     "output_type": "execute_result"
    }
   ],
   "source": [
    "open_file(\"test.txt\")"
   ]
  },
  {
   "cell_type": "code",
   "execution_count": 4,
   "id": "b84081f6-573a-4fe9-81c8-2f47c3b9bcc6",
   "metadata": {},
   "outputs": [],
   "source": [
    "text = \"Can I use these random paragraphs for my project?\\nYes! All of the random paragraphs in our generator are free to use for your projects.\\n\"\n",
    "line = 3\n",
    "write_to_file(open_file(\"test.txt\"),line,text)"
   ]
  },
  {
   "cell_type": "code",
   "execution_count": 5,
   "id": "ec2d46b8-6461-44f8-8583-73f34bbef4c6",
   "metadata": {},
   "outputs": [],
   "source": [
    "text = \"Can I contribute random paragraphs?\\nYes. We're always interested in improving this generator and one of the best ways to do that is to add new and interesting paragraphs to the generator. If you'd like to contribute some random paragraphs, please contact us.\\n\"\n",
    "line = 7\n",
    "write_to_file(open_file(\"test.txt\"),line,text)"
   ]
  },
  {
   "cell_type": "code",
   "execution_count": 8,
   "id": "fb4317e7-056f-4c11-8261-cf8788e92534",
   "metadata": {},
   "outputs": [
    {
     "name": "stdout",
     "output_type": "stream",
     "text": [
      "1,2,3,4,5\n",
      "a,b,c,d,e\n",
      "am,cd, terminal\n",
      "Can I use these random paragraphs for my project?\n",
      "Yes! All of the random paragraphs in our generator are free to use for your projects.\n",
      "\n",
      "// =========\n",
      "Can I contribute random paragraphs?\n",
      "Yes. We're always interested in improving this generator and one of the best ways to do that is to add new and interesting paragraphs to the generator. If you'd like to contribute some random paragraphs, please contact us.\n",
      "\n"
     ]
    }
   ],
   "source": [
    "print_file(open_file(\"test.txt\"))"
   ]
  },
  {
   "cell_type": "code",
   "execution_count": null,
   "id": "67236e1f-fd07-418f-badb-b26dcf56674c",
   "metadata": {},
   "outputs": [],
   "source": []
  }
 ],
 "metadata": {
  "kernelspec": {
   "display_name": "Python 3 (ipykernel)",
   "language": "python",
   "name": "python3"
  },
  "language_info": {
   "codemirror_mode": {
    "name": "ipython",
    "version": 3
   },
   "file_extension": ".py",
   "mimetype": "text/x-python",
   "name": "python",
   "nbconvert_exporter": "python",
   "pygments_lexer": "ipython3",
   "version": "3.10.12"
  }
 },
 "nbformat": 4,
 "nbformat_minor": 5
}
