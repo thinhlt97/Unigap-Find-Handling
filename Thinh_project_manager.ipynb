{
 "cells": [
  {
   "cell_type": "code",
   "execution_count": 1,
   "id": "b64a51c3-9bca-41fe-87c1-d9f84a3b76a9",
   "metadata": {},
   "outputs": [],
   "source": [
    "import os\n",
    "import json\n",
    "from datetime import datetime, timedelta\n",
    "\n",
    "TASKS_FILE = \"tasks.json\"\n",
    "\n",
    "def load_tasks():\n",
    "    if os.path.exists(TASKS_FILE):\n",
    "        with open(TASKS_FILE, 'r') as file:\n",
    "            return json.load(file)\n",
    "    return []\n",
    "\n",
    "def save_tasks(tasks):\n",
    "    with open(TASKS_FILE, 'w') as file:\n",
    "        json.dump(tasks, file, indent=2)\n"
   ]
  },
  {
   "cell_type": "code",
   "execution_count": 2,
   "id": "77665324-e11a-44d9-8410-41e7427692df",
   "metadata": {},
   "outputs": [],
   "source": [
    "def add_task(tasks):\n",
    "    data = load_tasks()\n",
    "    data['tasks'].append(tasks)\n",
    "    with open (TASKS_FILE,'w') as f:\n",
    "        json.dump(data,f,indent=2) "
   ]
  },
  {
   "cell_type": "code",
   "execution_count": 3,
   "id": "dccbfdaf-a4cb-400a-a783-9a70733b8455",
   "metadata": {},
   "outputs": [],
   "source": [
    "task2 =     {\n",
    "      \"id\": 2,\n",
    "      \"title\": \"Complete Java Project\",\n",
    "      \"category\": \"Learning\",\n",
    "      \"description\": \"Finish the task management system project for the Java course\",\n",
    "      \"add_date\": \"2023-07-15\",\n",
    "      \"due_date\": \"2023-07-30\",\n",
    "      \"finished_date\": \"2023-7-29\",\n",
    "      \"completed\": True\n",
    "    }\n",
    "task3 =     {\n",
    "      \"id\": 3,\n",
    "      \"title\": \"Complete C++ Project\",\n",
    "      \"category\": \"Practicing\",\n",
    "      \"description\": \"Finish the task management system project for the C++ course\",\n",
    "      \"add_date\": \"2023-07-15\",\n",
    "      \"due_date\": \"2023-07-30\",\n",
    "      \"finished_date\": \"2023-08-15\",\n",
    "      \"completed\": True\n",
    "    }\n",
    "task4 =     {\n",
    "      \"id\": 4,\n",
    "      \"title\": \"CSS\",\n",
    "      \"category\": \"programming\",\n",
    "      \"description\": \"Learning CSS\",\n",
    "      \"add_date\": \"2023-07-25\",\n",
    "      \"due_date\": \"2023-08-10\",\n",
    "      \"finished_date\": \"2023-08-15\",\n",
    "      \"completed\": False\n",
    "    }"
   ]
  },
  {
   "cell_type": "code",
   "execution_count": 4,
   "id": "16544f60-75a0-44fe-bc95-b969227e8cf1",
   "metadata": {},
   "outputs": [],
   "source": [
    "add_task(task2)\n",
    "add_task(task3)\n",
    "add_task(task4)"
   ]
  },
  {
   "cell_type": "code",
   "execution_count": 5,
   "id": "4741bd85-8651-49ab-88f9-327851e5d69b",
   "metadata": {},
   "outputs": [
    {
     "name": "stdout",
     "output_type": "stream",
     "text": [
      "{'tasks': [{'id': 1, 'title': 'Complete Python Project', 'category': 'Learning', 'description': 'Finish the task management system project for the Python course', 'add_date': '2023-07-15', 'due_date': '2023-07-30', 'finished_date': '2023-7-29', 'completed': False}, {'id': 2, 'title': 'Complete Java Project', 'category': 'Learning', 'description': 'Finish the task management system project for the Java course', 'add_date': '2023-07-15', 'due_date': '2023-07-30', 'finished_date': '2023-7-29', 'completed': True}, {'id': 3, 'title': 'Complete C++ Project', 'category': 'Practicing', 'description': 'Finish the task management system project for the C++ course', 'add_date': '2023-07-15', 'due_date': '2023-07-30', 'finished_date': '2023-08-15', 'completed': True}, {'id': 4, 'title': 'CSS', 'category': 'programming', 'description': 'Learning CSS', 'add_date': '2023-07-25', 'due_date': '2023-08-10', 'finished_date': '2023-08-15', 'completed': False}]}\n"
     ]
    }
   ],
   "source": [
    "print(load_tasks())\n"
   ]
  },
  {
   "cell_type": "code",
   "execution_count": 6,
   "id": "e0f14050-8fe8-4558-9fa1-10e0e70258be",
   "metadata": {},
   "outputs": [],
   "source": [
    "def list_tasks(tasks):\n",
    "    '''\n",
    "    Show all task\n",
    "    '''\n",
    "    with open (tasks,'r') as f:\n",
    "        data = json.load(f)\n",
    "    print(data['tasks'])"
   ]
  },
  {
   "cell_type": "code",
   "execution_count": 7,
   "id": "df634315-4b2f-406d-9c4f-dc6986cc193e",
   "metadata": {},
   "outputs": [
    {
     "name": "stdout",
     "output_type": "stream",
     "text": [
      "[{'id': 1, 'title': 'Complete Python Project', 'category': 'Learning', 'description': 'Finish the task management system project for the Python course', 'add_date': '2023-07-15', 'due_date': '2023-07-30', 'finished_date': '2023-7-29', 'completed': False}, {'id': 2, 'title': 'Complete Java Project', 'category': 'Learning', 'description': 'Finish the task management system project for the Java course', 'add_date': '2023-07-15', 'due_date': '2023-07-30', 'finished_date': '2023-7-29', 'completed': True}, {'id': 3, 'title': 'Complete C++ Project', 'category': 'Practicing', 'description': 'Finish the task management system project for the C++ course', 'add_date': '2023-07-15', 'due_date': '2023-07-30', 'finished_date': '2023-08-15', 'completed': True}, {'id': 4, 'title': 'CSS', 'category': 'programming', 'description': 'Learning CSS', 'add_date': '2023-07-25', 'due_date': '2023-08-10', 'finished_date': '2023-08-15', 'completed': False}]\n"
     ]
    }
   ],
   "source": [
    "list_tasks('tasks.json')"
   ]
  },
  {
   "cell_type": "code",
   "execution_count": 10,
   "id": "818065fa-bb0f-4f29-bb7a-d302212793f6",
   "metadata": {},
   "outputs": [],
   "source": [
    "def mark_task_completed(tasks):\n",
    "    '''\n",
    "    Change state of the task to complete and add finish date\n",
    "    '''\n",
    "    task_id = int(input(\"Enter the ID of the task to mark as completed: \"))\n",
    "    with open (tasks,'r') as f:\n",
    "            data = json.load(f)\n",
    "    for i in range (len(data['tasks'])):\n",
    "        if data['tasks'][i]['id'] == task_id:\n",
    "            data['tasks'][i]['completed']=True\n",
    "            data['tasks'][i]['finished_date'] = input('Enter the finished date: ')\n",
    "    with open ('tasks.json','w') as f:\n",
    "        json.dump(data,f, indent=2)"
   ]
  },
  {
   "cell_type": "code",
   "execution_count": 11,
   "id": "cee6f6d4-fd6f-4f79-afa9-11030e71a060",
   "metadata": {},
   "outputs": [
    {
     "name": "stdin",
     "output_type": "stream",
     "text": [
      "Enter the ID of the task to mark as completed:  4\n",
      "Enter the finished date:  2023-08-16\n"
     ]
    }
   ],
   "source": [
    "mark_task_completed('tasks.json')"
   ]
  },
  {
   "cell_type": "code",
   "execution_count": 13,
   "id": "3cc4160b-bbd0-4925-9a90-d028c440ac22",
   "metadata": {},
   "outputs": [],
   "source": [
    "def delete_task(tasks):\n",
    "    '''\n",
    "    Delete a task\n",
    "    '''\n",
    "    # TODO: Fill here\n",
    "    task_id = int(input(\"Enter the ID of the task to delete: \"))\n",
    "    with open ('tasks.json','r') as f:\n",
    "            data = json.load(f)\n",
    "    for i in range (len(data['tasks'])):\n",
    "        if data['tasks'][i]['id'] == task_id:\n",
    "            del data['tasks'][i]\n",
    "    with open ('tasks.json','w') as f:\n",
    "        json.dump(data,f, indent=2)"
   ]
  },
  {
   "cell_type": "code",
   "execution_count": 14,
   "id": "f5083973-64fe-47ac-ae2d-423d5d9de40f",
   "metadata": {},
   "outputs": [
    {
     "name": "stdin",
     "output_type": "stream",
     "text": [
      "Enter the ID of the task to delete:  4\n"
     ]
    }
   ],
   "source": [
    "delete_task('tasks.json')"
   ]
  },
  {
   "cell_type": "code",
   "execution_count": 15,
   "id": "1ef4584c-0f1f-4d02-807f-a83c415e3751",
   "metadata": {},
   "outputs": [],
   "source": [
    "def search_tasks(tasks):\n",
    "    '''\n",
    "    Find task by keyword, check the keyword is inside description, title or id \n",
    "    '''\n",
    "    keyword = input(\"Enter a keyword to search for: \").lower()\n",
    "    with open ('tasks.json','r') as f:\n",
    "        data = json.load(f)\n",
    "    for i in range (len(data['tasks'])):\n",
    "        if keyword in (data['tasks'][i]['description'].lower()) or keyword in (data['tasks'][i]['title'].lower()) or keyword == str(data['tasks'][i]['id']):\n",
    "            print(data['tasks'][i])"
   ]
  },
  {
   "cell_type": "code",
   "execution_count": 17,
   "id": "409f274d-bebe-4623-95c2-da8fd32fa1f7",
   "metadata": {},
   "outputs": [
    {
     "name": "stdin",
     "output_type": "stream",
     "text": [
      "Enter a keyword to search for:  python\n"
     ]
    },
    {
     "name": "stdout",
     "output_type": "stream",
     "text": [
      "{'id': 1, 'title': 'Complete Python Project', 'category': 'Learning', 'description': 'Finish the task management system project for the Python course', 'add_date': '2023-07-15', 'due_date': '2023-07-30', 'finished_date': '2023-7-29', 'completed': False}\n"
     ]
    }
   ],
   "source": [
    "search_tasks('tasks.json')"
   ]
  },
  {
   "cell_type": "code",
   "execution_count": null,
   "id": "61d31258-ee2a-4e31-b0c5-441ecc9977a0",
   "metadata": {},
   "outputs": [],
   "source": []
  }
 ],
 "metadata": {
  "kernelspec": {
   "display_name": "Python 3 (ipykernel)",
   "language": "python",
   "name": "python3"
  },
  "language_info": {
   "codemirror_mode": {
    "name": "ipython",
    "version": 3
   },
   "file_extension": ".py",
   "mimetype": "text/x-python",
   "name": "python",
   "nbconvert_exporter": "python",
   "pygments_lexer": "ipython3",
   "version": "3.12.4"
  }
 },
 "nbformat": 4,
 "nbformat_minor": 5
}
