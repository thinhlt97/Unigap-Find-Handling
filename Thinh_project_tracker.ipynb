{
 "cells": [
  {
   "cell_type": "code",
   "execution_count": 2,
   "id": "75fc3154-5836-4780-aa07-bed1cb6c696b",
   "metadata": {},
   "outputs": [],
   "source": [
    "import json\n",
    "from datetime import datetime, timedelta\n",
    "import matplotlib.pyplot as plt"
   ]
  },
  {
   "cell_type": "code",
   "execution_count": 4,
   "id": "13c671da-cabc-4bed-a972-525bf6a89350",
   "metadata": {},
   "outputs": [],
   "source": [
    "import pandas as pd"
   ]
  },
  {
   "cell_type": "code",
   "execution_count": 5,
   "id": "acb25f9d-790f-43c7-be57-966fec8fdd0e",
   "metadata": {},
   "outputs": [],
   "source": [
    "def calculate_completion_rate(tasks):\n",
    "    '''\n",
    "    Return percent of completed task\n",
    "    '''\n",
    "    try:\n",
    "        with open(tasks,'r') as f:\n",
    "            data = json.load(f)\n",
    "        df = pd.DataFrame(data['tasks'])\n",
    "        complete = 0 \n",
    "        for i in range ( len(df)):\n",
    "            if df['completed'][i] == True:\n",
    "                complete +=1 \n",
    "        return round(complete/len(df),2)*100\n",
    "    except FileNotFoundError:\n",
    "        print ('Khong tim thay file')"
   ]
  },
  {
   "cell_type": "code",
   "execution_count": 6,
   "id": "718ea28e-d462-42bd-b901-c7853c700f01",
   "metadata": {},
   "outputs": [
    {
     "data": {
      "text/plain": [
       "67.0"
      ]
     },
     "execution_count": 6,
     "metadata": {},
     "output_type": "execute_result"
    }
   ],
   "source": [
    "calculate_completion_rate('tasks.json')"
   ]
  },
  {
   "cell_type": "code",
   "execution_count": 7,
   "id": "57005e4d-f108-49bb-ba80-df4288c51b4c",
   "metadata": {},
   "outputs": [],
   "source": [
    "def analyze_task_distribution(tasks):\n",
    "    '''\n",
    "    Return number of task distribute by category\n",
    "    '''\n",
    "    try:\n",
    "        with open(tasks,'r') as f:\n",
    "            data = json.load(f)\n",
    "        df = pd.DataFrame(data['tasks'])\n",
    "        df1 = df.groupby('category')['id'].count()\n",
    "        df1 = pd.DataFrame(df1)\n",
    "        df1.columns = ['number_tasks']\n",
    "        return(df1)\n",
    "    except FileNotFoundError:\n",
    "        print('Khong tim thay file')\n"
   ]
  },
  {
   "cell_type": "code",
   "execution_count": 8,
   "id": "b4122e45-af35-47ea-b63d-967cb6fad17a",
   "metadata": {},
   "outputs": [
    {
     "data": {
      "text/html": [
       "<div>\n",
       "<style scoped>\n",
       "    .dataframe tbody tr th:only-of-type {\n",
       "        vertical-align: middle;\n",
       "    }\n",
       "\n",
       "    .dataframe tbody tr th {\n",
       "        vertical-align: top;\n",
       "    }\n",
       "\n",
       "    .dataframe thead th {\n",
       "        text-align: right;\n",
       "    }\n",
       "</style>\n",
       "<table border=\"1\" class=\"dataframe\">\n",
       "  <thead>\n",
       "    <tr style=\"text-align: right;\">\n",
       "      <th></th>\n",
       "      <th>number_tasks</th>\n",
       "    </tr>\n",
       "    <tr>\n",
       "      <th>category</th>\n",
       "      <th></th>\n",
       "    </tr>\n",
       "  </thead>\n",
       "  <tbody>\n",
       "    <tr>\n",
       "      <th>Learning</th>\n",
       "      <td>2</td>\n",
       "    </tr>\n",
       "    <tr>\n",
       "      <th>Practicing</th>\n",
       "      <td>1</td>\n",
       "    </tr>\n",
       "  </tbody>\n",
       "</table>\n",
       "</div>"
      ],
      "text/plain": [
       "            number_tasks\n",
       "category                \n",
       "Learning               2\n",
       "Practicing             1"
      ]
     },
     "execution_count": 8,
     "metadata": {},
     "output_type": "execute_result"
    }
   ],
   "source": [
    "analyze_task_distribution('tasks.json')"
   ]
  },
  {
   "cell_type": "code",
   "execution_count": 9,
   "id": "f9448087-f670-4cbd-b35c-7a0bb43d2aa1",
   "metadata": {},
   "outputs": [],
   "source": [
    "def calculate_average_completion_time(tasks):\n",
    "    '''\n",
    "    Return average of day to finish the date, calculate by taking all task \n",
    "    '''\n",
    "    try:\n",
    "        with open(tasks,'r') as f:\n",
    "            data = json.load(f)\n",
    "        df = pd.DataFrame(data['tasks'])\n",
    "        df['add_date'] = pd.to_datetime(df['add_date'])\n",
    "        df['finished_date'] = pd.to_datetime(df['finished_date'])\n",
    "        df['day_diff'] = (df['finished_date']-df['add_date']).dt.days\n",
    "        return round(df['day_diff'].mean(),2)\n",
    "    except FileNotFoundError:\n",
    "        print('Khong tim thay file')"
   ]
  },
  {
   "cell_type": "code",
   "execution_count": 11,
   "id": "6738e671-4912-4245-9fa8-bdd46defcbce",
   "metadata": {},
   "outputs": [
    {
     "data": {
      "text/plain": [
       "np.float64(19.67)"
      ]
     },
     "execution_count": 11,
     "metadata": {},
     "output_type": "execute_result"
    }
   ],
   "source": [
    "calculate_average_completion_time('tasks.json')"
   ]
  },
  {
   "cell_type": "code",
   "execution_count": 12,
   "id": "db4b8209-d3d1-4fab-8d19-e97bb9c5e275",
   "metadata": {},
   "outputs": [],
   "source": [
    "def identify_overdue_tasks(tasks):\n",
    "    '''\n",
    "    Show task not finish in time\n",
    "    '''\n",
    "    try:\n",
    "        with open(tasks,'r') as f:\n",
    "            data = json.load(f)\n",
    "        df = pd.DataFrame(data['tasks'])\n",
    "        df['add_date'] = pd.to_datetime(df['add_date'])\n",
    "        df['finished_date'] = pd.to_datetime(df['finished_date'])\n",
    "        df['due_date'] = pd.to_datetime(df['due_date'])\n",
    "        id_over_due = []\n",
    "        for i in range (len(df)):\n",
    "            if df['finished_date'][i] > df['due_date'][i]:\n",
    "                id_over_due.append(i)\n",
    "        return(df.iloc[id_over_due])\n",
    "    except FileNotFoundError:\n",
    "        print(\"Khong tim thay file\")\n"
   ]
  },
  {
   "cell_type": "code",
   "execution_count": 13,
   "id": "ae41ca19-d409-4017-ac87-e49e681b39b2",
   "metadata": {},
   "outputs": [
    {
     "data": {
      "text/html": [
       "<div>\n",
       "<style scoped>\n",
       "    .dataframe tbody tr th:only-of-type {\n",
       "        vertical-align: middle;\n",
       "    }\n",
       "\n",
       "    .dataframe tbody tr th {\n",
       "        vertical-align: top;\n",
       "    }\n",
       "\n",
       "    .dataframe thead th {\n",
       "        text-align: right;\n",
       "    }\n",
       "</style>\n",
       "<table border=\"1\" class=\"dataframe\">\n",
       "  <thead>\n",
       "    <tr style=\"text-align: right;\">\n",
       "      <th></th>\n",
       "      <th>id</th>\n",
       "      <th>title</th>\n",
       "      <th>category</th>\n",
       "      <th>description</th>\n",
       "      <th>add_date</th>\n",
       "      <th>due_date</th>\n",
       "      <th>finished_date</th>\n",
       "      <th>completed</th>\n",
       "    </tr>\n",
       "  </thead>\n",
       "  <tbody>\n",
       "    <tr>\n",
       "      <th>2</th>\n",
       "      <td>3</td>\n",
       "      <td>Complete C++ Project</td>\n",
       "      <td>Practicing</td>\n",
       "      <td>Finish the task management system project for ...</td>\n",
       "      <td>2023-07-15</td>\n",
       "      <td>2023-07-30</td>\n",
       "      <td>2023-08-15</td>\n",
       "      <td>True</td>\n",
       "    </tr>\n",
       "  </tbody>\n",
       "</table>\n",
       "</div>"
      ],
      "text/plain": [
       "   id                 title    category  \\\n",
       "2   3  Complete C++ Project  Practicing   \n",
       "\n",
       "                                         description   add_date   due_date  \\\n",
       "2  Finish the task management system project for ... 2023-07-15 2023-07-30   \n",
       "\n",
       "  finished_date  completed  \n",
       "2    2023-08-15       True  "
      ]
     },
     "execution_count": 13,
     "metadata": {},
     "output_type": "execute_result"
    }
   ],
   "source": [
    "identify_overdue_tasks('tasks.json')"
   ]
  },
  {
   "cell_type": "code",
   "execution_count": 16,
   "id": "3a1b8c15-d894-4ae5-8854-57496f8f7a6f",
   "metadata": {},
   "outputs": [],
   "source": [
    "def generate_productivity_report(tasks):\n",
    "    '''\n",
    "    Write report to a file\n",
    "    '''\n",
    "    # TODO\n",
    "    ...\n",
    "    ...\n",
    "    report = f\"\"\"\n",
    "Productivity Report\n",
    "-------------------\n",
    "Task Completion Rate: {calculate_completion_rate(tasks)}%\n",
    "Average Completion Time: {calculate_average_completion_time(tasks)} days\n",
    "Number of Overdue Tasks: {len(identify_overdue_tasks(tasks))}\n",
    "\n",
    "Task Distribution:\n",
    "{analyze_task_distribution(tasks)}\n",
    "\n",
    "Recommendations:\n",
    "1. {\"Great job on task completion!\" if calculate_average_completion_time(tasks) > 80 else \"Try to improve your task completion rate.\"}\n",
    "2. {\"Work on reducing your average completion time.\" if calculate_average_completion_time (tasks) > 7 else \"You're completing tasks in a timely manner!\"}\n",
    "3. {\"Focus on completing overdue tasks.\" if len(identify_overdue_tasks(tasks)) >= 1 else \"Keep up the good work on avoiding overdue tasks!\"}\n",
    "\"\"\"\n",
    "    with open(\"productivity_report.txt\", \"w\") as f:\n",
    "        f.write(report)"
   ]
  },
  {
   "cell_type": "code",
   "execution_count": 17,
   "id": "2289693a-7f4e-423b-9686-c91e11fb9fdb",
   "metadata": {},
   "outputs": [],
   "source": [
    "generate_productivity_report('tasks.json')"
   ]
  },
  {
   "cell_type": "code",
   "execution_count": 18,
   "id": "ed2c6a1a-f56e-4d46-afff-0c94bf6fd479",
   "metadata": {},
   "outputs": [
    {
     "name": "stdout",
     "output_type": "stream",
     "text": [
      "\n",
      "Productivity Report\n",
      "-------------------\n",
      "Task Completion Rate: 67.0%\n",
      "Average Completion Time: 19.67 days\n",
      "Number of Overdue Tasks: 1\n",
      "\n",
      "Task Distribution:\n",
      "            number_tasks\n",
      "category                \n",
      "Learning               2\n",
      "Practicing             1\n",
      "\n",
      "Recommendations:\n",
      "1. Try to improve your task completion rate.\n",
      "2. Work on reducing your average completion time.\n",
      "3. Focus on completing overdue tasks.\n",
      "\n"
     ]
    }
   ],
   "source": [
    "with open(\"productivity_report.txt\", \"r\") as f:\n",
    "    print(f.read())"
   ]
  },
  {
   "cell_type": "code",
   "execution_count": null,
   "id": "fa5000ae-84fd-43dd-bc8b-54f17220101f",
   "metadata": {},
   "outputs": [],
   "source": []
  }
 ],
 "metadata": {
  "kernelspec": {
   "display_name": "Python 3 (ipykernel)",
   "language": "python",
   "name": "python3"
  },
  "language_info": {
   "codemirror_mode": {
    "name": "ipython",
    "version": 3
   },
   "file_extension": ".py",
   "mimetype": "text/x-python",
   "name": "python",
   "nbconvert_exporter": "python",
   "pygments_lexer": "ipython3",
   "version": "3.12.4"
  }
 },
 "nbformat": 4,
 "nbformat_minor": 5
}
